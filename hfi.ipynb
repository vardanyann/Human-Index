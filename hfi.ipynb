{
 "cells": [
  {
   "cell_type": "markdown",
   "metadata": {},
   "source": [
    "**Importing the necessary libraries**"
   ]
  },
  {
   "cell_type": "code",
   "execution_count": 61,
   "metadata": {},
   "outputs": [],
   "source": [
    "import psycopg2 \n",
    "import pandas as pd \n",
    "import pandas.io.sql as psql\n",
    "from psycopg2.extensions import ISOLATION_LEVEL_AUTOCOMMIT"
   ]
  },
  {
   "cell_type": "markdown",
   "metadata": {},
   "source": [
    "**Connecting to the postgreSQL server and obtaining a DB cursor to perform database operations**"
   ]
  },
  {
   "cell_type": "code",
   "execution_count": 62,
   "metadata": {},
   "outputs": [
    {
     "name": "stdout",
     "output_type": "stream",
     "text": [
      "Connected Successfully to PostgreSQL server!!\n"
     ]
    }
   ],
   "source": [
    "try:\n",
    "    con = psycopg2.connect(user = \"postgres\",\n",
    "                                  password = \"QEW01lA67\",\n",
    "                                  host = \"localhost\",\n",
    "                                  port = \"5432\")\n",
    "    \n",
    "    con.set_isolation_level(ISOLATION_LEVEL_AUTOCOMMIT);\n",
    "    print(\"Connected Successfully to PostgreSQL server!!\")\n",
    "    \n",
    "    cursor = con.cursor();\n",
    "except (Exception, psycopg2.Error) as error :\n",
    "     print (\"Error while connecting to PostgreSQL\", error)\n"
   ]
  },
  {
   "cell_type": "markdown",
   "metadata": {},
   "source": [
    "**Creating the Database and executing the command in SQL**"
   ]
  },
  {
   "cell_type": "code",
   "execution_count": 63,
   "metadata": {},
   "outputs": [
    {
     "name": "stdout",
     "output_type": "stream",
     "text": [
      "Error While Creating the DB:  database \"humanfreedomindex\" already exists\n",
      "\n"
     ]
    }
   ],
   "source": [
    "name_Database   = \"HumanFreedomIndex\";\n",
    "\n",
    "sqlCreateDatabase = \"CREATE DATABASE \"+name_Database+\";\"\n",
    "\n",
    "try:\n",
    "    # Execute a SQL command: this creates a new DB\n",
    "    cursor.execute(sqlCreateDatabase);\n",
    "    print(\"Database '\"+name_Database+\"' Created Successfully!\")\n",
    "except (Exception, psycopg2.Error) as error :\n",
    "    print(\"Error While Creating the DB: \",error)\n",
    "    \n",
    "finally:\n",
    "    cursor.close() #to close the cursor\n",
    "    con.close() "
   ]
  },
  {
   "cell_type": "markdown",
   "metadata": {},
   "source": [
    "**Getting new connection but this time pointing it to the created \"humanfreedomindex\" DB**"
   ]
  },
  {
   "cell_type": "code",
   "execution_count": 75,
   "metadata": {},
   "outputs": [
    {
     "name": "stdout",
     "output_type": "stream",
     "text": [
      "connected again to the server and cusor now on HumanFreedomIndex DB !!\n"
     ]
    }
   ],
   "source": [
    "con = psycopg2.connect(user = \"postgres\",\n",
    "                       password = \"QEW01lA67\",\n",
    "                       host = \"localhost\",\n",
    "                       port = \"5432\",\n",
    "                       database = \"humanfreedomindex\")\n",
    "\n",
    "try:\n",
    "    cursor = con.cursor();\n",
    "    print(\"connected again to the server and cusor now on HumanFreedomIndex DB !!\")\n",
    "except (Exception, psycopg2.Error) as error:\n",
    "    print(\"Error in Connection\",error)"
   ]
  },
  {
   "cell_type": "markdown",
   "metadata": {},
   "source": [
    "**Creating the hfi_data table to import all the raw data into **"
   ]
  },
  {
   "cell_type": "code",
   "execution_count": 65,
   "metadata": {},
   "outputs": [
    {
     "name": "stdout",
     "output_type": "stream",
     "text": [
      "Table (hfi_data) created successfully in PostgreSQL \n"
     ]
    }
   ],
   "source": [
    "\n",
    "try:\n",
    "    \n",
    "    dataTable=\"hfi_data\"\n",
    "    create_dataTablee_query = '''CREATE TABLE '''+ dataTable+''' \n",
    "              (\n",
    "\tN VARCHAR(40),\n",
    "  \tyear\tVARCHAR(40),\n",
    "\tISO_code VARCHAR(40),\n",
    "\tcountries VARCHAR(40),\n",
    "\tregion\tVARCHAR(40),\n",
    "\thf_score FLOAT(20),\n",
    "\thf_rank\tFLOAT (20),\n",
    "\thf_quartile\tFLOAT(20),\n",
    "\tpf_rol_procedural FLOAT(20), \n",
    "\tpf_rol_civil FLOAT(20),\n",
    "\tpf_rol_criminal FLOAT(20),\n",
    "\tpf_rol FLOAT(20),\n",
    "\tpf_ss_homicide FLOAT(20),\n",
    "\tpf_ss_disappearances_disap FLOAT(20), \n",
    "\tpf_ss_disappearances_violent FLOAT(20), \n",
    "\tpf_ss_disappearances_organized FLOAT(20), \n",
    "\tpf_ss_disappearances_fatalities FLOAT(20), \n",
    "\tpf_ss_disappearances_injuries FLOAT(20), \n",
    "\tpf_ss_disappearances FLOAT(20), \n",
    "\tpf_ss_women_fgm FLOAT(20), \n",
    "\tpf_ss_women_inheritance FLOAT(20), \n",
    "\tpf_ss_women FLOAT(20), \n",
    "\tpf_ss FLOAT(20), \n",
    "\tpf_movement_domestic FLOAT(20), \n",
    "\tpf_movement_foreign FLOAT(20), \n",
    "\tpf_movement_women FLOAT(20), \n",
    "\tpf_movement FLOAT(20), \n",
    "\tpf_religion_freedom FLOAT(20), \n",
    "\tpf_religion_repression FLOAT(20), \n",
    "\tpf_religion_harassment FLOAT(20), \n",
    "\tpf_religion_restrictions FLOAT(20), \n",
    "\tpf_religion FLOAT(20), \n",
    "\tpf_association_entry FLOAT(20), \n",
    "\tpf_association_assembly FLOAT(20), \n",
    "\tpf_association_barries FLOAT(20), \n",
    "\tpf_association_bans FLOAT(20), \n",
    "\tpf_association_estopparties FLOAT(20), \n",
    "\tpf_association_opposition FLOAT(20), \n",
    "\tpf_association_civilrepression FLOAT(20), \n",
    "\tpf_association FLOAT(20), \n",
    "\tpf_expression_killed FLOAT(20), \n",
    "\tpf_expression_jailed FLOAT(20), \n",
    "\tpf_expression_media FLOAT(20), \n",
    "\tpf_expression_cable FLOAT(20), \n",
    "\tpf_expression_newspapers FLOAT(20), \n",
    "\tpf_expression_control FLOAT(20), \n",
    "\tpf_expression FLOAT(20), \n",
    "\tpf_identity_legal FLOAT(20), \n",
    "\tpf_identity_sex_male FLOAT(20), \n",
    "\tpf_identity_sex_female FLOAT(20), \n",
    "\tpf_identity_sex FLOAT(20), \n",
    "\tpf_identity_divorce FLOAT(20), \n",
    "\tpf_identity FLOAT(20), \n",
    "\tpf_score FLOAT(20), \n",
    "\tpf_rank FLOAT(20), \n",
    "\tef_government_consumption FLOAT(20), \n",
    "\tef_government_transfers FLOAT(20), \n",
    "\tef_government_enterprises FLOAT(20), \n",
    "\tef_government_tax_income FLOAT(20), \n",
    "\tef_government_tax_payroll FLOAT(20), \n",
    "\tef_government_tax FLOAT(20), \n",
    "\tef_government_soa FLOAT(20), \n",
    "\tef_government FLOAT(20), \n",
    "\tef_legal_judicial FLOAT(20), \n",
    "\tef_legal_courts FLOAT(20), \n",
    "\tef_legal_protection FLOAT(20), \n",
    "\tef_legal_military FLOAT(20), \n",
    "\tef_legal_integrity FLOAT(20), \n",
    "\tef_legal_enforcement FLOAT(20), \n",
    "\tef_legal_regulatory FLOAT(20), \n",
    "\tef_legal_police FLOAT(20), \n",
    "\tef_legal_gender FLOAT(20), \n",
    "\tef_legal FLOAT(20), \n",
    "\tef_money_growth FLOAT(20), \n",
    "\tef_money_sd FLOAT(20), \n",
    "\tef_money_inflation FLOAT(20), \n",
    "\tef_money_currency FLOAT(20), \n",
    "\tef_money FLOAT(20), \n",
    "\tef_trade_tariffs_revenue FLOAT(20), \n",
    "\tef_trade_tariffs_mean FLOAT(20), \n",
    "\tef_trade_tariffs_sd FLOAT(20), \n",
    "\tef_trade_tariffs FLOAT(20), \n",
    "\tef_trade_regulatory_nontariff FLOAT(20), \n",
    "\tef_trade_regulatory_compliance FLOAT(20), \n",
    "\tef_trade_regulatory FLOAT(20), \n",
    "\tef_trade_black FLOAT(20), \n",
    "\tef_trade_movement_foreign FLOAT(20), \n",
    "\tef_trade_movement_capital FLOAT(20), \n",
    "\tef_trade_movement_visit FLOAT(20), \n",
    "\tef_trade_movement FLOAT(20), \n",
    "\tef_trade FLOAT(20), \n",
    "\tef_regulation_credit_ownership FLOAT(20), \n",
    "\tef_regulation_credit_private FLOAT(20), \n",
    "\tef_regulation_credit_interest FLOAT(20), \n",
    "\tef_regulation_credit FLOAT(20), \n",
    "\tef_regulation_labor_minwage FLOAT(20), \n",
    "\tef_regulation_labor_firing FLOAT(20), \n",
    "\tef_regulation_labor_bargain FLOAT(20), \n",
    "\tef_regulation_labor_hours FLOAT(20), \n",
    "\tef_regulation_labor_dismissal FLOAT(20), \n",
    "\tef_regulation_labor_conscription FLOAT(20), \n",
    "\tef_regulation_labor FLOAT(20), \n",
    "\tef_regulation_business_adm FLOAT(20), \n",
    "\tef_regulation_business_bureaucracy FLOAT(20), \n",
    "\tef_regulation_business_start FLOAT(20), \n",
    "\tef_regulation_business_bribes FLOAT(20), \n",
    "\tef_regulation_business_licensing FLOAT(20), \n",
    "\tef_regulation_business_compliance FLOAT(20), \n",
    "\tef_regulation_business FLOAT(20), \n",
    "\tef_regulation FLOAT(20), \n",
    "\tef_score FLOAT(20), \n",
    "\tef_rank FLOAT(20), \n",
    "\twomens_freedom FLOAT(20),\n",
    "  PRIMARY KEY (N)\n",
    "); '''\n",
    "    \n",
    "    \n",
    "    cursor.execute(create_dataTablee_query)\n",
    "    \n",
    "    con.commit()\n",
    "    print(\"Table (\"+ dataTable +\") created successfully in PostgreSQL \")\n",
    "except (Exception, psycopg2.Error) as error:\n",
    "    con.rollback()\n",
    "    print(\"Error While Creating the DB: \",error)\n"
   ]
  },
  {
   "cell_type": "markdown",
   "metadata": {},
   "source": [
    "**Separately executing code for creating all the necessary tables**"
   ]
  },
  {
   "cell_type": "code",
   "execution_count": 87,
   "metadata": {},
   "outputs": [
    {
     "name": "stdout",
     "output_type": "stream",
     "text": [
      "Table (country) created successfully in PostgreSQL \n"
     ]
    }
   ],
   "source": [
    "#Creating the country table\n",
    "try:\n",
    "    \n",
    "    dataTable=\"country\"\n",
    "    create_dataTablee_query = '''CREATE TABLE '''+ dataTable+''' \n",
    "              (\n",
    "\tISO VARCHAR(40),\n",
    "\tname VARCHAR(40)\n",
    "); '''\n",
    "\n",
    "    cursor.execute(create_dataTablee_query)\n",
    "    \n",
    "    con.commit()\n",
    "    print(\"Table (\"+ dataTable +\") created successfully in PostgreSQL \")\n",
    "except (Exception, psycopg2.Error) as error:\n",
    "    con.rollback()\n",
    "    print(\"Error While Creating the DB: \",error)"
   ]
  },
  {
   "cell_type": "code",
   "execution_count": 78,
   "metadata": {},
   "outputs": [
    {
     "name": "stdout",
     "output_type": "stream",
     "text": [
      "Table (expression) created successfully in PostgreSQL \n"
     ]
    }
   ],
   "source": [
    "#Creating the expression table\n",
    "\n",
    "try:    \n",
    "    dataTable=\"expression\"\n",
    "    create_dataTablee_query = '''CREATE TABLE '''+ dataTable+''' \n",
    "              (\n",
    "\tname VARCHAR(40),\n",
    "\tyear VARCHAR(40),\n",
    "\tpf_expression_killed FLOAT(20), \n",
    "\tpf_expression_jailed FLOAT(20), \n",
    "\tpf_expression_media FLOAT(20), \n",
    "\tpf_expression_cable FLOAT(20), \n",
    "\tpf_expression_newspapers FLOAT(20), \n",
    "\tpf_expression_control FLOAT(20), \n",
    "\tpf_expression FLOAT(20),\n",
    "\tprimary key(name, year)\n",
    ");'''\n",
    "\n",
    " \n",
    "    cursor.execute(create_dataTablee_query)\n",
    "    \n",
    "    con.commit()\n",
    "    print(\"Table (\"+ dataTable +\") created successfully in PostgreSQL \")\n",
    "except (Exception, psycopg2.Error) as error:\n",
    "    con.rollback()\n",
    "    print(\"Error While Creating the DB: \",error)\n"
   ]
  },
  {
   "cell_type": "code",
   "execution_count": 79,
   "metadata": {},
   "outputs": [
    {
     "name": "stdout",
     "output_type": "stream",
     "text": [
      "Table (religion) created successfully in PostgreSQL \n"
     ]
    }
   ],
   "source": [
    "#Creating the religion table\n",
    "\n",
    "try:    \n",
    "    dataTable=\"religion\"\n",
    "    create_dataTablee_query = '''CREATE TABLE '''+ dataTable+''' \n",
    "              (\n",
    "\tname VARCHAR(40),\n",
    "\tyear VARCHAR(40),\n",
    "\tpf_religion_freedom FLOAT(20), \n",
    "\tpf_religion_repression FLOAT(20), \n",
    "\tpf_religion_harassment FLOAT(20), \n",
    "\tpf_religion_restrictions FLOAT(20), \n",
    "\tpf_religion FLOAT(20), \n",
    "\tforeign key(name, year) references expression\n",
    ");'''\n",
    "\n",
    " \n",
    "    cursor.execute(create_dataTablee_query)\n",
    "    \n",
    "    con.commit()\n",
    "    print(\"Table (\"+ dataTable +\") created successfully in PostgreSQL \")\n",
    "except (Exception, psycopg2.Error) as error:\n",
    "    con.rollback()\n",
    "    print(\"Error While Creating the DB: \",error)\n"
   ]
  },
  {
   "cell_type": "code",
   "execution_count": 80,
   "metadata": {},
   "outputs": [
    {
     "name": "stdout",
     "output_type": "stream",
     "text": [
      "Table (economy) created successfully in PostgreSQL \n"
     ]
    }
   ],
   "source": [
    "#Creating the economy table\n",
    "\n",
    "try:    \n",
    "    dataTable=\"economy\"\n",
    "    create_dataTablee_query = '''CREATE TABLE '''+ dataTable+''' \n",
    "              (\n",
    "\tname VARCHAR(40),\n",
    "\tyear VARCHAR(40),\n",
    "\tef_government FLOAT(20),\n",
    "\tef_legal FLOAT(20),\n",
    "\tef_money FLOAT(20),\n",
    "\tef_regulation FLOAT(20),\n",
    "\tef_trade FLOAT(20),\n",
    "\tef_score FLOAT(20), \n",
    "\tforeign key(name, year) references expression\n",
    ");'''\n",
    "\n",
    " \n",
    "    cursor.execute(create_dataTablee_query)\n",
    "    \n",
    "    con.commit()\n",
    "    print(\"Table (\"+ dataTable +\") created successfully in PostgreSQL \")\n",
    "except (Exception, psycopg2.Error) as error:\n",
    "    con.rollback()\n",
    "    print(\"Error While Creating the DB: \",error)\n"
   ]
  },
  {
   "cell_type": "code",
   "execution_count": 81,
   "metadata": {},
   "outputs": [
    {
     "name": "stdout",
     "output_type": "stream",
     "text": [
      "Table (summary) created successfully in PostgreSQL \n"
     ]
    }
   ],
   "source": [
    "#Creating the summary table\n",
    "\n",
    "try:    \n",
    "    dataTable=\"summary\"\n",
    "    create_dataTablee_query = '''CREATE TABLE '''+ dataTable+''' \n",
    "              (\n",
    "\tname VARCHAR(40),\n",
    "\tyear VARCHAR(40),\n",
    "\tpf_score FLOAT(20),\n",
    "\tpf_rank FLOAT(20), \n",
    "\thf_score FLOAT(20),\n",
    "\thf_rank FLOAT(20),\n",
    "\tef_score FLOAT(20),\n",
    "\tef_rank FLOAT(20),\n",
    "\tforeign key(name, year) references expression\n",
    ");'''\n",
    "\n",
    " \n",
    "    cursor.execute(create_dataTablee_query)\n",
    "    \n",
    "    con.commit()\n",
    "    print(\"Table (\"+ dataTable +\") created successfully in PostgreSQL \")\n",
    "except (Exception, psycopg2.Error) as error:\n",
    "    con.rollback()\n",
    "    print(\"Error While Creating the DB: \",error)\n"
   ]
  },
  {
   "cell_type": "code",
   "execution_count": 100,
   "metadata": {},
   "outputs": [
    {
     "name": "stdout",
     "output_type": "stream",
     "text": [
      "Table (region) created successfully in PostgreSQL \n"
     ]
    }
   ],
   "source": [
    "#Creating the region table\n",
    "\n",
    "try:    \n",
    "    dataTable=\"region\"\n",
    "    create_dataTablee_query = '''CREATE TABLE '''+ dataTable+''' \n",
    "              (\n",
    "\tcountry_name VARCHAR(40),\n",
    "\tregion_name VARCHAR(40)\n",
    ");'''\n",
    "\n",
    " \n",
    "    cursor.execute(create_dataTablee_query)\n",
    "    \n",
    "    con.commit()\n",
    "    print(\"Table (\"+ dataTable +\") created successfully in PostgreSQL \")\n",
    "except (Exception, psycopg2.Error) as error:\n",
    "    con.rollback()\n",
    "    print(\"Error While Creating the DB: \",error)\n"
   ]
  },
  {
   "cell_type": "markdown",
   "metadata": {},
   "source": [
    "**Inserting all the data from hfi_data table to corresponding tables**"
   ]
  },
  {
   "cell_type": "code",
   "execution_count": 88,
   "metadata": {},
   "outputs": [
    {
     "name": "stdout",
     "output_type": "stream",
     "text": [
      "Data (country) inserted successfully in PostgreSQL \n"
     ]
    }
   ],
   "source": [
    "#inserting the data from hfi_data to country table\n",
    "\n",
    "try:\n",
    "    dataTable=\"country\"\n",
    "    insert_data_query='''INSERT INTO country \n",
    "              (\n",
    "\tselect distinct iso_code, countries\n",
    "\tfrom hfi_data\n",
    ");'''\n",
    "\n",
    "    cursor.execute(insert_data_query)\n",
    "    \n",
    "    con.commit()\n",
    "    print(\"Data (\"+ dataTable +\") inserted successfully in PostgreSQL \")\n",
    "except (Exception, psycopg2.Error) as error:\n",
    "    con.rollback()\n",
    "    print(\"Error While Creating the DB: \",error)\n"
   ]
  },
  {
   "cell_type": "code",
   "execution_count": 90,
   "metadata": {},
   "outputs": [
    {
     "name": "stdout",
     "output_type": "stream",
     "text": [
      "Data (expression) inserted successfully in PostgreSQL \n"
     ]
    }
   ],
   "source": [
    "#inserting the data from hfi_data to expression table\n",
    "\n",
    "try:\n",
    "    dataTable=\"expression\"\n",
    "    insert_data_query='''insert into expression\n",
    "        \n",
    "\tselect countries, year, pf_expression_killed, \n",
    "\tpf_expression_jailed, \n",
    "\tpf_expression_media, \n",
    "\tpf_expression_cable, \n",
    "\tpf_expression_newspapers, \n",
    "\tpf_expression_control, \n",
    "\tpf_expression\n",
    "\tfrom hfi_data\n",
    ";'''\n",
    "\n",
    "    cursor.execute(insert_data_query)\n",
    "    \n",
    "    con.commit()\n",
    "    print(\"Data (\"+ dataTable +\") inserted successfully in PostgreSQL \")\n",
    "except (Exception, psycopg2.Error) as error:\n",
    "    con.rollback()\n",
    "    print(\"Error While Creating the DB: \",error)\n"
   ]
  },
  {
   "cell_type": "code",
   "execution_count": 91,
   "metadata": {},
   "outputs": [
    {
     "name": "stdout",
     "output_type": "stream",
     "text": [
      "Data (religion) inserted successfully in PostgreSQL \n"
     ]
    }
   ],
   "source": [
    "#inserting the data from hfi_data to religion table\n",
    "\n",
    "try:\n",
    "    dataTable=\"religion\"\n",
    "    insert_data_query='''insert into religion\n",
    "        \n",
    "\tselect countries, year, pf_religion_freedom, \n",
    "\tpf_religion_repression, \n",
    "\tpf_religion_harassment, \n",
    "\tpf_religion_restrictions, \n",
    "\tpf_religion\n",
    "\tfrom hfi_data\n",
    ";'''\n",
    "\n",
    "    cursor.execute(insert_data_query)\n",
    "    \n",
    "    con.commit()\n",
    "    print(\"Data (\"+ dataTable +\") inserted successfully in PostgreSQL \")\n",
    "except (Exception, psycopg2.Error) as error:\n",
    "    con.rollback()\n",
    "    print(\"Error While Creating the DB: \",error)\n"
   ]
  },
  {
   "cell_type": "code",
   "execution_count": 92,
   "metadata": {},
   "outputs": [
    {
     "name": "stdout",
     "output_type": "stream",
     "text": [
      "Data (economy) inserted successfully in PostgreSQL \n"
     ]
    }
   ],
   "source": [
    "#inserting the data from hfi_data to economy table\n",
    "\n",
    "try:\n",
    "    dataTable=\"economy\"\n",
    "    insert_data_query='''insert into economy\n",
    "        \n",
    "\tselect countries, year, \n",
    "\tef_government,\n",
    "\tef_legal,\n",
    "\tef_money,\n",
    "\tef_regulation,\n",
    "\tef_trade,\n",
    "\tef_score\n",
    "\tfrom hfi_data\n",
    ";'''\n",
    "\n",
    "    cursor.execute(insert_data_query)\n",
    "    \n",
    "    con.commit()\n",
    "    print(\"Data (\"+ dataTable +\") inserted successfully in PostgreSQL \")\n",
    "except (Exception, psycopg2.Error) as error:\n",
    "    con.rollback()\n",
    "    print(\"Error While Creating the DB: \",error)\n"
   ]
  },
  {
   "cell_type": "code",
   "execution_count": 93,
   "metadata": {},
   "outputs": [
    {
     "name": "stdout",
     "output_type": "stream",
     "text": [
      "Data (summary) inserted successfully in PostgreSQL \n"
     ]
    }
   ],
   "source": [
    "#inserting the data from hfi_data to summary table\n",
    "\n",
    "try:\n",
    "    dataTable=\"summary\"\n",
    "    insert_data_query='''insert into summary\n",
    "        \n",
    "\tselect countries, year,\n",
    "\tpf_score,\n",
    "\tpf_rank, \n",
    "\thf_score, \n",
    "\thf_rank, \n",
    "\tef_score, \n",
    "\tef_rank\n",
    "\tfrom hfi_data\n",
    ";'''\n",
    "\n",
    "    cursor.execute(insert_data_query)\n",
    "    \n",
    "    con.commit()\n",
    "    print(\"Data (\"+ dataTable +\") inserted successfully in PostgreSQL \")\n",
    "except (Exception, psycopg2.Error) as error:\n",
    "    con.rollback()\n",
    "    print(\"Error While Creating the DB: \",error)\n"
   ]
  },
  {
   "cell_type": "code",
   "execution_count": 101,
   "metadata": {},
   "outputs": [
    {
     "name": "stdout",
     "output_type": "stream",
     "text": [
      "Data (region) inserted successfully in PostgreSQL \n"
     ]
    }
   ],
   "source": [
    "#inserting the data from hfi_data to region table\n",
    "\n",
    "try:\n",
    "    dataTable=\"region\"\n",
    "    insert_data_query='''insert into region\n",
    "        \n",
    "\tselect distinct countries, region\n",
    "\tfrom hfi_data\n",
    ";'''\n",
    "\n",
    "    cursor.execute(insert_data_query)\n",
    "    \n",
    "    con.commit()\n",
    "    print(\"Data (\"+ dataTable +\") inserted successfully in PostgreSQL \")\n",
    "except (Exception, psycopg2.Error) as error:\n",
    "    con.rollback()\n",
    "    print(\"Error While Creating the DB: \",error)"
   ]
  },
  {
   "cell_type": "markdown",
   "metadata": {},
   "source": [
    "**Since we already created the tables and imported the data to corresponding tables, here we are out queries to \n",
    "respond the quesions we asked earlier. **"
   ]
  },
  {
   "cell_type": "code",
   "execution_count": 97,
   "metadata": {},
   "outputs": [
    {
     "data": {
      "text/html": [
       "<style  type=\"text/css\" >\n",
       "</style><table id=\"T_62da9990_409c_11ec_94ed_acde48001122\" ><thead>    <tr>        <th class=\"col_heading level0 col0\" >name</th>        <th class=\"col_heading level0 col1\" >pf_religion</th>    </tr></thead><tbody>\n",
       "                <tr>\n",
       "                                <td id=\"T_62da9990_409c_11ec_94ed_acde48001122row0_col0\" class=\"data row0 col0\" >Yemen, Rep.</td>\n",
       "                        <td id=\"T_62da9990_409c_11ec_94ed_acde48001122row0_col1\" class=\"data row0 col1\" >1.400000</td>\n",
       "            </tr>\n",
       "            <tr>\n",
       "                                <td id=\"T_62da9990_409c_11ec_94ed_acde48001122row1_col0\" class=\"data row1 col0\" >Saudi Arabia</td>\n",
       "                        <td id=\"T_62da9990_409c_11ec_94ed_acde48001122row1_col1\" class=\"data row1 col1\" >2.800000</td>\n",
       "            </tr>\n",
       "            <tr>\n",
       "                                <td id=\"T_62da9990_409c_11ec_94ed_acde48001122row2_col0\" class=\"data row2 col0\" >Egypt, Arab Rep.</td>\n",
       "                        <td id=\"T_62da9990_409c_11ec_94ed_acde48001122row2_col1\" class=\"data row2 col1\" >3.200000</td>\n",
       "            </tr>\n",
       "            <tr>\n",
       "                                <td id=\"T_62da9990_409c_11ec_94ed_acde48001122row3_col0\" class=\"data row3 col0\" >China</td>\n",
       "                        <td id=\"T_62da9990_409c_11ec_94ed_acde48001122row3_col1\" class=\"data row3 col1\" >3.300000</td>\n",
       "            </tr>\n",
       "            <tr>\n",
       "                                <td id=\"T_62da9990_409c_11ec_94ed_acde48001122row4_col0\" class=\"data row4 col0\" >Bahrain</td>\n",
       "                        <td id=\"T_62da9990_409c_11ec_94ed_acde48001122row4_col1\" class=\"data row4 col1\" >3.300000</td>\n",
       "            </tr>\n",
       "    </tbody></table>"
      ],
      "text/plain": [
       "<pandas.io.formats.style.Styler at 0x7f805b06ab50>"
      ]
     },
     "metadata": {},
     "output_type": "display_data"
    }
   ],
   "source": [
    "#1 Query \"Which are the 5 countries with the lowest and highest score regarding religion in 2018?\"\n",
    "religion_score= psql.read_sql(\"SELECT name, pf_religion FROM religion WHERE pf_religion IS NOT NULL AND year ='2018' ORDER BY pf_religion ASC LIMIT 5\", con)\n",
    "display(religion_score.style.hide_index())"
   ]
  },
  {
   "cell_type": "code",
   "execution_count": 102,
   "metadata": {},
   "outputs": [
    {
     "data": {
      "text/html": [
       "<style  type=\"text/css\" >\n",
       "</style><table id=\"T_fd9dbae2_409d_11ec_94ed_acde48001122\" ><thead>    <tr>        <th class=\"col_heading level0 col0\" >hf_score</th>        <th class=\"col_heading level0 col1\" >region_name</th>    </tr></thead><tbody>\n",
       "                <tr>\n",
       "                                <td id=\"T_fd9dbae2_409d_11ec_94ed_acde48001122row0_col0\" class=\"data row0 col0\" >8.561364</td>\n",
       "                        <td id=\"T_fd9dbae2_409d_11ec_94ed_acde48001122row0_col1\" class=\"data row0 col1\" >North America</td>\n",
       "            </tr>\n",
       "            <tr>\n",
       "                                <td id=\"T_fd9dbae2_409d_11ec_94ed_acde48001122row1_col0\" class=\"data row1 col0\" >8.432576</td>\n",
       "                        <td id=\"T_fd9dbae2_409d_11ec_94ed_acde48001122row1_col1\" class=\"data row1 col1\" >Western Europe</td>\n",
       "            </tr>\n",
       "            <tr>\n",
       "                                <td id=\"T_fd9dbae2_409d_11ec_94ed_acde48001122row2_col0\" class=\"data row2 col0\" >7.880758</td>\n",
       "                        <td id=\"T_fd9dbae2_409d_11ec_94ed_acde48001122row2_col1\" class=\"data row2 col1\" >East Asia</td>\n",
       "            </tr>\n",
       "            <tr>\n",
       "                                <td id=\"T_fd9dbae2_409d_11ec_94ed_acde48001122row3_col0\" class=\"data row3 col0\" >7.863636</td>\n",
       "                        <td id=\"T_fd9dbae2_409d_11ec_94ed_acde48001122row3_col1\" class=\"data row3 col1\" >Oceania</td>\n",
       "            </tr>\n",
       "            <tr>\n",
       "                                <td id=\"T_fd9dbae2_409d_11ec_94ed_acde48001122row4_col0\" class=\"data row4 col0\" >7.730598</td>\n",
       "                        <td id=\"T_fd9dbae2_409d_11ec_94ed_acde48001122row4_col1\" class=\"data row4 col1\" >Eastern Europe</td>\n",
       "            </tr>\n",
       "            <tr>\n",
       "                                <td id=\"T_fd9dbae2_409d_11ec_94ed_acde48001122row5_col0\" class=\"data row5 col0\" >7.149894</td>\n",
       "                        <td id=\"T_fd9dbae2_409d_11ec_94ed_acde48001122row5_col1\" class=\"data row5 col1\" >Latin America & the Caribbean</td>\n",
       "            </tr>\n",
       "            <tr>\n",
       "                                <td id=\"T_fd9dbae2_409d_11ec_94ed_acde48001122row6_col0\" class=\"data row6 col0\" >6.854219</td>\n",
       "                        <td id=\"T_fd9dbae2_409d_11ec_94ed_acde48001122row6_col1\" class=\"data row6 col1\" >Caucasus & Central Asia</td>\n",
       "            </tr>\n",
       "            <tr>\n",
       "                                <td id=\"T_fd9dbae2_409d_11ec_94ed_acde48001122row7_col0\" class=\"data row7 col0\" >6.512824</td>\n",
       "                        <td id=\"T_fd9dbae2_409d_11ec_94ed_acde48001122row7_col1\" class=\"data row7 col1\" >South Asia</td>\n",
       "            </tr>\n",
       "            <tr>\n",
       "                                <td id=\"T_fd9dbae2_409d_11ec_94ed_acde48001122row8_col0\" class=\"data row8 col0\" >6.262083</td>\n",
       "                        <td id=\"T_fd9dbae2_409d_11ec_94ed_acde48001122row8_col1\" class=\"data row8 col1\" >Sub-Saharan Africa</td>\n",
       "            </tr>\n",
       "            <tr>\n",
       "                                <td id=\"T_fd9dbae2_409d_11ec_94ed_acde48001122row9_col0\" class=\"data row9 col0\" >5.916170</td>\n",
       "                        <td id=\"T_fd9dbae2_409d_11ec_94ed_acde48001122row9_col1\" class=\"data row9 col1\" >Middle East & North Africa</td>\n",
       "            </tr>\n",
       "    </tbody></table>"
      ],
      "text/plain": [
       "<pandas.io.formats.style.Styler at 0x7f805d3f0bb0>"
      ]
     },
     "metadata": {},
     "output_type": "display_data"
    }
   ],
   "source": [
    "#2 Query \"Rank the regions according to the average freedom index\"\n",
    "\n",
    "avg_freedom_index= psql.read_sql(\"SELECT AVG(summary.hf_score) AS hf_score, region.region_name FROM region INNER JOIN summary ON region.country_name = summary.name GROUP BY region_name ORDER BY hf_score DESC\", con)\n",
    "display(avg_freedom_index.style.hide_index())\n"
   ]
  },
  {
   "cell_type": "code",
   "execution_count": 107,
   "metadata": {},
   "outputs": [
    {
     "data": {
      "text/html": [
       "<style  type=\"text/css\" >\n",
       "</style><table id=\"T_79deacea_40a0_11ec_94ed_acde48001122\" ><thead>    <tr>        <th class=\"col_heading level0 col0\" >name</th>        <th class=\"col_heading level0 col1\" >year</th>        <th class=\"col_heading level0 col2\" >pf_expression</th>        <th class=\"col_heading level0 col3\" >ef_score</th>    </tr></thead><tbody>\n",
       "                <tr>\n",
       "                                <td id=\"T_79deacea_40a0_11ec_94ed_acde48001122row0_col0\" class=\"data row0 col0\" >Azerbaijan</td>\n",
       "                        <td id=\"T_79deacea_40a0_11ec_94ed_acde48001122row0_col1\" class=\"data row0 col1\" >2017</td>\n",
       "                        <td id=\"T_79deacea_40a0_11ec_94ed_acde48001122row0_col2\" class=\"data row0 col2\" >4.600000</td>\n",
       "                        <td id=\"T_79deacea_40a0_11ec_94ed_acde48001122row0_col3\" class=\"data row0 col3\" >6.230000</td>\n",
       "            </tr>\n",
       "            <tr>\n",
       "                                <td id=\"T_79deacea_40a0_11ec_94ed_acde48001122row1_col0\" class=\"data row1 col0\" >Bahrain</td>\n",
       "                        <td id=\"T_79deacea_40a0_11ec_94ed_acde48001122row1_col1\" class=\"data row1 col1\" >2017</td>\n",
       "                        <td id=\"T_79deacea_40a0_11ec_94ed_acde48001122row1_col2\" class=\"data row1 col2\" >4.600000</td>\n",
       "                        <td id=\"T_79deacea_40a0_11ec_94ed_acde48001122row1_col3\" class=\"data row1 col3\" >7.180000</td>\n",
       "            </tr>\n",
       "            <tr>\n",
       "                                <td id=\"T_79deacea_40a0_11ec_94ed_acde48001122row2_col0\" class=\"data row2 col0\" >Brunei Darussalam</td>\n",
       "                        <td id=\"T_79deacea_40a0_11ec_94ed_acde48001122row2_col1\" class=\"data row2 col1\" >2017</td>\n",
       "                        <td id=\"T_79deacea_40a0_11ec_94ed_acde48001122row2_col2\" class=\"data row2 col2\" >5.000000</td>\n",
       "                        <td id=\"T_79deacea_40a0_11ec_94ed_acde48001122row2_col3\" class=\"data row2 col3\" >6.690000</td>\n",
       "            </tr>\n",
       "            <tr>\n",
       "                                <td id=\"T_79deacea_40a0_11ec_94ed_acde48001122row3_col0\" class=\"data row3 col0\" >Burundi</td>\n",
       "                        <td id=\"T_79deacea_40a0_11ec_94ed_acde48001122row3_col1\" class=\"data row3 col1\" >2017</td>\n",
       "                        <td id=\"T_79deacea_40a0_11ec_94ed_acde48001122row3_col2\" class=\"data row3 col2\" >3.300000</td>\n",
       "                        <td id=\"T_79deacea_40a0_11ec_94ed_acde48001122row3_col3\" class=\"data row3 col3\" >6.020000</td>\n",
       "            </tr>\n",
       "            <tr>\n",
       "                                <td id=\"T_79deacea_40a0_11ec_94ed_acde48001122row4_col0\" class=\"data row4 col0\" >China</td>\n",
       "                        <td id=\"T_79deacea_40a0_11ec_94ed_acde48001122row4_col1\" class=\"data row4 col1\" >2017</td>\n",
       "                        <td id=\"T_79deacea_40a0_11ec_94ed_acde48001122row4_col2\" class=\"data row4 col2\" >6.200000</td>\n",
       "                        <td id=\"T_79deacea_40a0_11ec_94ed_acde48001122row4_col3\" class=\"data row4 col3\" >6.260000</td>\n",
       "            </tr>\n",
       "            <tr>\n",
       "                                <td id=\"T_79deacea_40a0_11ec_94ed_acde48001122row5_col0\" class=\"data row5 col0\" >Honduras</td>\n",
       "                        <td id=\"T_79deacea_40a0_11ec_94ed_acde48001122row5_col1\" class=\"data row5 col1\" >2017</td>\n",
       "                        <td id=\"T_79deacea_40a0_11ec_94ed_acde48001122row5_col2\" class=\"data row5 col2\" >7.100000</td>\n",
       "                        <td id=\"T_79deacea_40a0_11ec_94ed_acde48001122row5_col3\" class=\"data row5 col3\" >7.240000</td>\n",
       "            </tr>\n",
       "            <tr>\n",
       "                                <td id=\"T_79deacea_40a0_11ec_94ed_acde48001122row6_col0\" class=\"data row6 col0\" >Jordan</td>\n",
       "                        <td id=\"T_79deacea_40a0_11ec_94ed_acde48001122row6_col1\" class=\"data row6 col1\" >2017</td>\n",
       "                        <td id=\"T_79deacea_40a0_11ec_94ed_acde48001122row6_col2\" class=\"data row6 col2\" >7.100000</td>\n",
       "                        <td id=\"T_79deacea_40a0_11ec_94ed_acde48001122row6_col3\" class=\"data row6 col3\" >7.540000</td>\n",
       "            </tr>\n",
       "            <tr>\n",
       "                                <td id=\"T_79deacea_40a0_11ec_94ed_acde48001122row7_col0\" class=\"data row7 col0\" >Kazakhstan</td>\n",
       "                        <td id=\"T_79deacea_40a0_11ec_94ed_acde48001122row7_col1\" class=\"data row7 col1\" >2017</td>\n",
       "                        <td id=\"T_79deacea_40a0_11ec_94ed_acde48001122row7_col2\" class=\"data row7 col2\" >6.900000</td>\n",
       "                        <td id=\"T_79deacea_40a0_11ec_94ed_acde48001122row7_col3\" class=\"data row7 col3\" >7.090000</td>\n",
       "            </tr>\n",
       "            <tr>\n",
       "                                <td id=\"T_79deacea_40a0_11ec_94ed_acde48001122row8_col0\" class=\"data row8 col0\" >Lao PDR</td>\n",
       "                        <td id=\"T_79deacea_40a0_11ec_94ed_acde48001122row8_col1\" class=\"data row8 col1\" >2017</td>\n",
       "                        <td id=\"T_79deacea_40a0_11ec_94ed_acde48001122row8_col2\" class=\"data row8 col2\" >6.300000</td>\n",
       "                        <td id=\"T_79deacea_40a0_11ec_94ed_acde48001122row8_col3\" class=\"data row8 col3\" >6.520000</td>\n",
       "            </tr>\n",
       "            <tr>\n",
       "                                <td id=\"T_79deacea_40a0_11ec_94ed_acde48001122row9_col0\" class=\"data row9 col0\" >Malta</td>\n",
       "                        <td id=\"T_79deacea_40a0_11ec_94ed_acde48001122row9_col1\" class=\"data row9 col1\" >2017</td>\n",
       "                        <td id=\"T_79deacea_40a0_11ec_94ed_acde48001122row9_col2\" class=\"data row9 col2\" >7.900000</td>\n",
       "                        <td id=\"T_79deacea_40a0_11ec_94ed_acde48001122row9_col3\" class=\"data row9 col3\" >7.980000</td>\n",
       "            </tr>\n",
       "            <tr>\n",
       "                                <td id=\"T_79deacea_40a0_11ec_94ed_acde48001122row10_col0\" class=\"data row10 col0\" >Nicaragua</td>\n",
       "                        <td id=\"T_79deacea_40a0_11ec_94ed_acde48001122row10_col1\" class=\"data row10 col1\" >2017</td>\n",
       "                        <td id=\"T_79deacea_40a0_11ec_94ed_acde48001122row10_col2\" class=\"data row10 col2\" >7.100000</td>\n",
       "                        <td id=\"T_79deacea_40a0_11ec_94ed_acde48001122row10_col3\" class=\"data row10 col3\" >7.120000</td>\n",
       "            </tr>\n",
       "            <tr>\n",
       "                                <td id=\"T_79deacea_40a0_11ec_94ed_acde48001122row11_col0\" class=\"data row11 col0\" >Niger</td>\n",
       "                        <td id=\"T_79deacea_40a0_11ec_94ed_acde48001122row11_col1\" class=\"data row11 col1\" >2017</td>\n",
       "                        <td id=\"T_79deacea_40a0_11ec_94ed_acde48001122row11_col2\" class=\"data row11 col2\" >5.300000</td>\n",
       "                        <td id=\"T_79deacea_40a0_11ec_94ed_acde48001122row11_col3\" class=\"data row11 col3\" >5.940000</td>\n",
       "            </tr>\n",
       "            <tr>\n",
       "                                <td id=\"T_79deacea_40a0_11ec_94ed_acde48001122row12_col0\" class=\"data row12 col0\" >Oman</td>\n",
       "                        <td id=\"T_79deacea_40a0_11ec_94ed_acde48001122row12_col1\" class=\"data row12 col1\" >2017</td>\n",
       "                        <td id=\"T_79deacea_40a0_11ec_94ed_acde48001122row12_col2\" class=\"data row12 col2\" >5.800000</td>\n",
       "                        <td id=\"T_79deacea_40a0_11ec_94ed_acde48001122row12_col3\" class=\"data row12 col3\" >6.790000</td>\n",
       "            </tr>\n",
       "            <tr>\n",
       "                                <td id=\"T_79deacea_40a0_11ec_94ed_acde48001122row13_col0\" class=\"data row13 col0\" >Russian Federation</td>\n",
       "                        <td id=\"T_79deacea_40a0_11ec_94ed_acde48001122row13_col1\" class=\"data row13 col1\" >2017</td>\n",
       "                        <td id=\"T_79deacea_40a0_11ec_94ed_acde48001122row13_col2\" class=\"data row13 col2\" >6.500000</td>\n",
       "                        <td id=\"T_79deacea_40a0_11ec_94ed_acde48001122row13_col3\" class=\"data row13 col3\" >6.750000</td>\n",
       "            </tr>\n",
       "            <tr>\n",
       "                                <td id=\"T_79deacea_40a0_11ec_94ed_acde48001122row14_col0\" class=\"data row14 col0\" >Rwanda</td>\n",
       "                        <td id=\"T_79deacea_40a0_11ec_94ed_acde48001122row14_col1\" class=\"data row14 col1\" >2017</td>\n",
       "                        <td id=\"T_79deacea_40a0_11ec_94ed_acde48001122row14_col2\" class=\"data row14 col2\" >6.700000</td>\n",
       "                        <td id=\"T_79deacea_40a0_11ec_94ed_acde48001122row14_col3\" class=\"data row14 col3\" >7.190000</td>\n",
       "            </tr>\n",
       "            <tr>\n",
       "                                <td id=\"T_79deacea_40a0_11ec_94ed_acde48001122row15_col0\" class=\"data row15 col0\" >Saudi Arabia</td>\n",
       "                        <td id=\"T_79deacea_40a0_11ec_94ed_acde48001122row15_col1\" class=\"data row15 col1\" >2017</td>\n",
       "                        <td id=\"T_79deacea_40a0_11ec_94ed_acde48001122row15_col2\" class=\"data row15 col2\" >6.100000</td>\n",
       "                        <td id=\"T_79deacea_40a0_11ec_94ed_acde48001122row15_col3\" class=\"data row15 col3\" >6.270000</td>\n",
       "            </tr>\n",
       "            <tr>\n",
       "                                <td id=\"T_79deacea_40a0_11ec_94ed_acde48001122row16_col0\" class=\"data row16 col0\" >Singapore</td>\n",
       "                        <td id=\"T_79deacea_40a0_11ec_94ed_acde48001122row16_col1\" class=\"data row16 col1\" >2017</td>\n",
       "                        <td id=\"T_79deacea_40a0_11ec_94ed_acde48001122row16_col2\" class=\"data row16 col2\" >7.500000</td>\n",
       "                        <td id=\"T_79deacea_40a0_11ec_94ed_acde48001122row16_col3\" class=\"data row16 col3\" >8.700000</td>\n",
       "            </tr>\n",
       "            <tr>\n",
       "                                <td id=\"T_79deacea_40a0_11ec_94ed_acde48001122row17_col0\" class=\"data row17 col0\" >Syrian Arab Republic</td>\n",
       "                        <td id=\"T_79deacea_40a0_11ec_94ed_acde48001122row17_col1\" class=\"data row17 col1\" >2017</td>\n",
       "                        <td id=\"T_79deacea_40a0_11ec_94ed_acde48001122row17_col2\" class=\"data row17 col2\" >2.200000</td>\n",
       "                        <td id=\"T_79deacea_40a0_11ec_94ed_acde48001122row17_col3\" class=\"data row17 col3\" >5.050000</td>\n",
       "            </tr>\n",
       "            <tr>\n",
       "                                <td id=\"T_79deacea_40a0_11ec_94ed_acde48001122row18_col0\" class=\"data row18 col0\" >Tajikistan</td>\n",
       "                        <td id=\"T_79deacea_40a0_11ec_94ed_acde48001122row18_col1\" class=\"data row18 col1\" >2017</td>\n",
       "                        <td id=\"T_79deacea_40a0_11ec_94ed_acde48001122row18_col2\" class=\"data row18 col2\" >4.600000</td>\n",
       "                        <td id=\"T_79deacea_40a0_11ec_94ed_acde48001122row18_col3\" class=\"data row18 col3\" >5.860000</td>\n",
       "            </tr>\n",
       "            <tr>\n",
       "                                <td id=\"T_79deacea_40a0_11ec_94ed_acde48001122row19_col0\" class=\"data row19 col0\" >Turkey</td>\n",
       "                        <td id=\"T_79deacea_40a0_11ec_94ed_acde48001122row19_col1\" class=\"data row19 col1\" >2017</td>\n",
       "                        <td id=\"T_79deacea_40a0_11ec_94ed_acde48001122row19_col2\" class=\"data row19 col2\" >5.100000</td>\n",
       "                        <td id=\"T_79deacea_40a0_11ec_94ed_acde48001122row19_col3\" class=\"data row19 col3\" >6.730000</td>\n",
       "            </tr>\n",
       "            <tr>\n",
       "                                <td id=\"T_79deacea_40a0_11ec_94ed_acde48001122row20_col0\" class=\"data row20 col0\" >United Arab Emirates</td>\n",
       "                        <td id=\"T_79deacea_40a0_11ec_94ed_acde48001122row20_col1\" class=\"data row20 col1\" >2017</td>\n",
       "                        <td id=\"T_79deacea_40a0_11ec_94ed_acde48001122row20_col2\" class=\"data row20 col2\" >6.700000</td>\n",
       "                        <td id=\"T_79deacea_40a0_11ec_94ed_acde48001122row20_col3\" class=\"data row20 col3\" >7.100000</td>\n",
       "            </tr>\n",
       "    </tbody></table>"
      ],
      "text/plain": [
       "<pandas.io.formats.style.Styler at 0x7f805d3f09d0>"
      ]
     },
     "metadata": {},
     "output_type": "display_data"
    }
   ],
   "source": [
    "#3 List the countries that have a higher score on freedom of expression than economic freedom in 2017\n",
    "\n",
    "ef_pf= psql.read_sql(\"select economy.name, economy.year, pf_expression, ef_score from expression natural join economy where ef_score>pf_expression and economy.year='2017'\", con)\n",
    "display(ef_pf.style.hide_index())\n"
   ]
  },
  {
   "cell_type": "code",
   "execution_count": 110,
   "metadata": {},
   "outputs": [
    {
     "data": {
      "text/html": [
       "<style  type=\"text/css\" >\n",
       "</style><table id=\"T_2b748916_40a1_11ec_94ed_acde48001122\" ><thead>    <tr>        <th class=\"col_heading level0 col0\" >rank_change</th>        <th class=\"col_heading level0 col1\" >name</th>    </tr></thead><tbody>\n",
       "                <tr>\n",
       "                                <td id=\"T_2b748916_40a1_11ec_94ed_acde48001122row0_col0\" class=\"data row0 col0\" >52.000000</td>\n",
       "                        <td id=\"T_2b748916_40a1_11ec_94ed_acde48001122row0_col1\" class=\"data row0 col1\" >Bahrain</td>\n",
       "            </tr>\n",
       "    </tbody></table>"
      ],
      "text/plain": [
       "<pandas.io.formats.style.Styler at 0x7f805c0150a0>"
      ]
     },
     "metadata": {},
     "output_type": "display_data"
    }
   ],
   "source": [
    "#4a Which country has made the biggest jump in the \n",
    "#Freedom Index over the years, when it comes to ranking?\n",
    "\n",
    "freedom_index_rank= psql.read_sql(\"SELECT MAX(hf_rank) - MIN(hf_rank) AS rank_change, name FROM summary WHERE year ='2008' OR year = '2018' GROUP BY name ORDER BY rank_change DESC LIMIT 1\", con)\n",
    "display(freedom_index_rank.style.hide_index())\n"
   ]
  },
  {
   "cell_type": "code",
   "execution_count": 109,
   "metadata": {},
   "outputs": [
    {
     "data": {
      "text/html": [
       "<style  type=\"text/css\" >\n",
       "</style><table id=\"T_13391fd8_40a1_11ec_94ed_acde48001122\" ><thead>    <tr>        <th class=\"col_heading level0 col0\" >rank_change</th>        <th class=\"col_heading level0 col1\" >name</th>    </tr></thead><tbody>\n",
       "                <tr>\n",
       "                                <td id=\"T_13391fd8_40a1_11ec_94ed_acde48001122row0_col0\" class=\"data row0 col0\" >1.280000</td>\n",
       "                        <td id=\"T_13391fd8_40a1_11ec_94ed_acde48001122row0_col1\" class=\"data row0 col1\" >Venezuela, RB</td>\n",
       "            </tr>\n",
       "    </tbody></table>"
      ],
      "text/plain": [
       "<pandas.io.formats.style.Styler at 0x7f805d3f6670>"
      ]
     },
     "metadata": {},
     "output_type": "display_data"
    }
   ],
   "source": [
    "#4b Which country has made the biggest jump in the \n",
    "#Freedom Index over the years, when it comes to score?\n",
    "\n",
    "freedom_index_score= psql.read_sql(\"SELECT MAX(hf_score) - MIN(hf_score) AS rank_change, name FROM summary WHERE year ='2008' OR year = '2018' GROUP BY name ORDER BY rank_change DESC LIMIT 1\", con)\n",
    "display(freedom_index_score.style.hide_index())\n"
   ]
  },
  {
   "cell_type": "code",
   "execution_count": 111,
   "metadata": {},
   "outputs": [
    {
     "data": {
      "text/html": [
       "<style  type=\"text/css\" >\n",
       "</style><table id=\"T_c7f581a6_40cd_11ec_94ed_acde48001122\" ><thead>    <tr>        <th class=\"col_heading level0 col0\" >name</th>        <th class=\"col_heading level0 col1\" >year</th>        <th class=\"col_heading level0 col2\" >hf_score</th>        <th class=\"col_heading level0 col3\" >pf_score</th>        <th class=\"col_heading level0 col4\" >ef_score</th>    </tr></thead><tbody>\n",
       "                <tr>\n",
       "                                <td id=\"T_c7f581a6_40cd_11ec_94ed_acde48001122row0_col0\" class=\"data row0 col0\" >Hong Kong SAR, China</td>\n",
       "                        <td id=\"T_c7f581a6_40cd_11ec_94ed_acde48001122row0_col1\" class=\"data row0 col1\" >2008</td>\n",
       "                        <td id=\"T_c7f581a6_40cd_11ec_94ed_acde48001122row0_col2\" class=\"data row0 col2\" >8.990000</td>\n",
       "                        <td id=\"T_c7f581a6_40cd_11ec_94ed_acde48001122row0_col3\" class=\"data row0 col3\" >9.000000</td>\n",
       "                        <td id=\"T_c7f581a6_40cd_11ec_94ed_acde48001122row0_col4\" class=\"data row0 col4\" >8.970000</td>\n",
       "            </tr>\n",
       "            <tr>\n",
       "                                <td id=\"T_c7f581a6_40cd_11ec_94ed_acde48001122row1_col0\" class=\"data row1 col0\" >Hong Kong SAR, China</td>\n",
       "                        <td id=\"T_c7f581a6_40cd_11ec_94ed_acde48001122row1_col1\" class=\"data row1 col1\" >2009</td>\n",
       "                        <td id=\"T_c7f581a6_40cd_11ec_94ed_acde48001122row1_col2\" class=\"data row1 col2\" >8.940000</td>\n",
       "                        <td id=\"T_c7f581a6_40cd_11ec_94ed_acde48001122row1_col3\" class=\"data row1 col3\" >8.970000</td>\n",
       "                        <td id=\"T_c7f581a6_40cd_11ec_94ed_acde48001122row1_col4\" class=\"data row1 col4\" >8.900000</td>\n",
       "            </tr>\n",
       "            <tr>\n",
       "                                <td id=\"T_c7f581a6_40cd_11ec_94ed_acde48001122row2_col0\" class=\"data row2 col0\" >Hong Kong SAR, China</td>\n",
       "                        <td id=\"T_c7f581a6_40cd_11ec_94ed_acde48001122row2_col1\" class=\"data row2 col1\" >2010</td>\n",
       "                        <td id=\"T_c7f581a6_40cd_11ec_94ed_acde48001122row2_col2\" class=\"data row2 col2\" >8.930000</td>\n",
       "                        <td id=\"T_c7f581a6_40cd_11ec_94ed_acde48001122row2_col3\" class=\"data row2 col3\" >8.940000</td>\n",
       "                        <td id=\"T_c7f581a6_40cd_11ec_94ed_acde48001122row2_col4\" class=\"data row2 col4\" >8.910000</td>\n",
       "            </tr>\n",
       "            <tr>\n",
       "                                <td id=\"T_c7f581a6_40cd_11ec_94ed_acde48001122row3_col0\" class=\"data row3 col0\" >Hong Kong SAR, China</td>\n",
       "                        <td id=\"T_c7f581a6_40cd_11ec_94ed_acde48001122row3_col1\" class=\"data row3 col1\" >2011</td>\n",
       "                        <td id=\"T_c7f581a6_40cd_11ec_94ed_acde48001122row3_col2\" class=\"data row3 col2\" >8.910000</td>\n",
       "                        <td id=\"T_c7f581a6_40cd_11ec_94ed_acde48001122row3_col3\" class=\"data row3 col3\" >8.940000</td>\n",
       "                        <td id=\"T_c7f581a6_40cd_11ec_94ed_acde48001122row3_col4\" class=\"data row3 col4\" >8.880000</td>\n",
       "            </tr>\n",
       "            <tr>\n",
       "                                <td id=\"T_c7f581a6_40cd_11ec_94ed_acde48001122row4_col0\" class=\"data row4 col0\" >New Zealand</td>\n",
       "                        <td id=\"T_c7f581a6_40cd_11ec_94ed_acde48001122row4_col1\" class=\"data row4 col1\" >2012</td>\n",
       "                        <td id=\"T_c7f581a6_40cd_11ec_94ed_acde48001122row4_col2\" class=\"data row4 col2\" >8.870000</td>\n",
       "                        <td id=\"T_c7f581a6_40cd_11ec_94ed_acde48001122row4_col3\" class=\"data row4 col3\" >9.300000</td>\n",
       "                        <td id=\"T_c7f581a6_40cd_11ec_94ed_acde48001122row4_col4\" class=\"data row4 col4\" >8.430000</td>\n",
       "            </tr>\n",
       "            <tr>\n",
       "                                <td id=\"T_c7f581a6_40cd_11ec_94ed_acde48001122row5_col0\" class=\"data row5 col0\" >New Zealand</td>\n",
       "                        <td id=\"T_c7f581a6_40cd_11ec_94ed_acde48001122row5_col1\" class=\"data row5 col1\" >2013</td>\n",
       "                        <td id=\"T_c7f581a6_40cd_11ec_94ed_acde48001122row5_col2\" class=\"data row5 col2\" >8.860000</td>\n",
       "                        <td id=\"T_c7f581a6_40cd_11ec_94ed_acde48001122row5_col3\" class=\"data row5 col3\" >9.280000</td>\n",
       "                        <td id=\"T_c7f581a6_40cd_11ec_94ed_acde48001122row5_col4\" class=\"data row5 col4\" >8.440000</td>\n",
       "            </tr>\n",
       "            <tr>\n",
       "                                <td id=\"T_c7f581a6_40cd_11ec_94ed_acde48001122row6_col0\" class=\"data row6 col0\" >New Zealand</td>\n",
       "                        <td id=\"T_c7f581a6_40cd_11ec_94ed_acde48001122row6_col1\" class=\"data row6 col1\" >2014</td>\n",
       "                        <td id=\"T_c7f581a6_40cd_11ec_94ed_acde48001122row6_col2\" class=\"data row6 col2\" >8.890000</td>\n",
       "                        <td id=\"T_c7f581a6_40cd_11ec_94ed_acde48001122row6_col3\" class=\"data row6 col3\" >9.310000</td>\n",
       "                        <td id=\"T_c7f581a6_40cd_11ec_94ed_acde48001122row6_col4\" class=\"data row6 col4\" >8.460000</td>\n",
       "            </tr>\n",
       "            <tr>\n",
       "                                <td id=\"T_c7f581a6_40cd_11ec_94ed_acde48001122row7_col0\" class=\"data row7 col0\" >New Zealand</td>\n",
       "                        <td id=\"T_c7f581a6_40cd_11ec_94ed_acde48001122row7_col1\" class=\"data row7 col1\" >2015</td>\n",
       "                        <td id=\"T_c7f581a6_40cd_11ec_94ed_acde48001122row7_col2\" class=\"data row7 col2\" >8.850000</td>\n",
       "                        <td id=\"T_c7f581a6_40cd_11ec_94ed_acde48001122row7_col3\" class=\"data row7 col3\" >9.190000</td>\n",
       "                        <td id=\"T_c7f581a6_40cd_11ec_94ed_acde48001122row7_col4\" class=\"data row7 col4\" >8.500000</td>\n",
       "            </tr>\n",
       "            <tr>\n",
       "                                <td id=\"T_c7f581a6_40cd_11ec_94ed_acde48001122row8_col0\" class=\"data row8 col0\" >New Zealand</td>\n",
       "                        <td id=\"T_c7f581a6_40cd_11ec_94ed_acde48001122row8_col1\" class=\"data row8 col1\" >2016</td>\n",
       "                        <td id=\"T_c7f581a6_40cd_11ec_94ed_acde48001122row8_col2\" class=\"data row8 col2\" >8.870000</td>\n",
       "                        <td id=\"T_c7f581a6_40cd_11ec_94ed_acde48001122row8_col3\" class=\"data row8 col3\" >9.200000</td>\n",
       "                        <td id=\"T_c7f581a6_40cd_11ec_94ed_acde48001122row8_col4\" class=\"data row8 col4\" >8.530000</td>\n",
       "            </tr>\n",
       "            <tr>\n",
       "                                <td id=\"T_c7f581a6_40cd_11ec_94ed_acde48001122row9_col0\" class=\"data row9 col0\" >New Zealand</td>\n",
       "                        <td id=\"T_c7f581a6_40cd_11ec_94ed_acde48001122row9_col1\" class=\"data row9 col1\" >2017</td>\n",
       "                        <td id=\"T_c7f581a6_40cd_11ec_94ed_acde48001122row9_col2\" class=\"data row9 col2\" >8.860000</td>\n",
       "                        <td id=\"T_c7f581a6_40cd_11ec_94ed_acde48001122row9_col3\" class=\"data row9 col3\" >9.240000</td>\n",
       "                        <td id=\"T_c7f581a6_40cd_11ec_94ed_acde48001122row9_col4\" class=\"data row9 col4\" >8.480000</td>\n",
       "            </tr>\n",
       "            <tr>\n",
       "                                <td id=\"T_c7f581a6_40cd_11ec_94ed_acde48001122row10_col0\" class=\"data row10 col0\" >New Zealand</td>\n",
       "                        <td id=\"T_c7f581a6_40cd_11ec_94ed_acde48001122row10_col1\" class=\"data row10 col1\" >2018</td>\n",
       "                        <td id=\"T_c7f581a6_40cd_11ec_94ed_acde48001122row10_col2\" class=\"data row10 col2\" >8.870000</td>\n",
       "                        <td id=\"T_c7f581a6_40cd_11ec_94ed_acde48001122row10_col3\" class=\"data row10 col3\" >9.210000</td>\n",
       "                        <td id=\"T_c7f581a6_40cd_11ec_94ed_acde48001122row10_col4\" class=\"data row10 col4\" >8.530000</td>\n",
       "            </tr>\n",
       "    </tbody></table>"
      ],
      "text/plain": [
       "<pandas.io.formats.style.Styler at 0x7f805d3f6940>"
      ]
     },
     "metadata": {},
     "output_type": "display_data"
    }
   ],
   "source": [
    "#5 For each year, which countries have high human freedom index scores on all three measures (hf_score, pf_score, ef_score?\n",
    "\n",
    "freedom_index_score= psql.read_sql(\"select distinct on (year) name, year, hf_score, pf_score, ef_score from summary where hf_score is not null   and pf_score is not null   and ef_score is not null order by year, (hf_score, pf_score, ef_score) desc\",con)\n",
    "display(freedom_index_score.style.hide_index())\n"
   ]
  },
  {
   "cell_type": "code",
   "execution_count": 112,
   "metadata": {},
   "outputs": [
    {
     "data": {
      "text/html": [
       "<style  type=\"text/css\" >\n",
       "</style><table id=\"T_f9ba0fe0_40cd_11ec_94ed_acde48001122\" ><thead>    <tr>        <th class=\"col_heading level0 col0\" >name</th>        <th class=\"col_heading level0 col1\" >year</th>        <th class=\"col_heading level0 col2\" >hf_score</th>        <th class=\"col_heading level0 col3\" >pf_score</th>        <th class=\"col_heading level0 col4\" >ef_score</th>    </tr></thead><tbody>\n",
       "                <tr>\n",
       "                                <td id=\"T_f9ba0fe0_40cd_11ec_94ed_acde48001122row0_col0\" class=\"data row0 col0\" >Myanmar</td>\n",
       "                        <td id=\"T_f9ba0fe0_40cd_11ec_94ed_acde48001122row0_col1\" class=\"data row0 col1\" >2008</td>\n",
       "                        <td id=\"T_f9ba0fe0_40cd_11ec_94ed_acde48001122row0_col2\" class=\"data row0 col2\" >4.540000</td>\n",
       "                        <td id=\"T_f9ba0fe0_40cd_11ec_94ed_acde48001122row0_col3\" class=\"data row0 col3\" >5.470000</td>\n",
       "                        <td id=\"T_f9ba0fe0_40cd_11ec_94ed_acde48001122row0_col4\" class=\"data row0 col4\" >3.610000</td>\n",
       "            </tr>\n",
       "            <tr>\n",
       "                                <td id=\"T_f9ba0fe0_40cd_11ec_94ed_acde48001122row1_col0\" class=\"data row1 col0\" >Myanmar</td>\n",
       "                        <td id=\"T_f9ba0fe0_40cd_11ec_94ed_acde48001122row1_col1\" class=\"data row1 col1\" >2009</td>\n",
       "                        <td id=\"T_f9ba0fe0_40cd_11ec_94ed_acde48001122row1_col2\" class=\"data row1 col2\" >4.830000</td>\n",
       "                        <td id=\"T_f9ba0fe0_40cd_11ec_94ed_acde48001122row1_col3\" class=\"data row1 col3\" >5.710000</td>\n",
       "                        <td id=\"T_f9ba0fe0_40cd_11ec_94ed_acde48001122row1_col4\" class=\"data row1 col4\" >3.940000</td>\n",
       "            </tr>\n",
       "            <tr>\n",
       "                                <td id=\"T_f9ba0fe0_40cd_11ec_94ed_acde48001122row2_col0\" class=\"data row2 col0\" >Myanmar</td>\n",
       "                        <td id=\"T_f9ba0fe0_40cd_11ec_94ed_acde48001122row2_col1\" class=\"data row2 col1\" >2010</td>\n",
       "                        <td id=\"T_f9ba0fe0_40cd_11ec_94ed_acde48001122row2_col2\" class=\"data row2 col2\" >4.740000</td>\n",
       "                        <td id=\"T_f9ba0fe0_40cd_11ec_94ed_acde48001122row2_col3\" class=\"data row2 col3\" >5.550000</td>\n",
       "                        <td id=\"T_f9ba0fe0_40cd_11ec_94ed_acde48001122row2_col4\" class=\"data row2 col4\" >3.930000</td>\n",
       "            </tr>\n",
       "            <tr>\n",
       "                                <td id=\"T_f9ba0fe0_40cd_11ec_94ed_acde48001122row3_col0\" class=\"data row3 col0\" >Iran, Islamic Rep.</td>\n",
       "                        <td id=\"T_f9ba0fe0_40cd_11ec_94ed_acde48001122row3_col1\" class=\"data row3 col1\" >2011</td>\n",
       "                        <td id=\"T_f9ba0fe0_40cd_11ec_94ed_acde48001122row3_col2\" class=\"data row3 col2\" >4.710000</td>\n",
       "                        <td id=\"T_f9ba0fe0_40cd_11ec_94ed_acde48001122row3_col3\" class=\"data row3 col3\" >4.020000</td>\n",
       "                        <td id=\"T_f9ba0fe0_40cd_11ec_94ed_acde48001122row3_col4\" class=\"data row3 col4\" >5.400000</td>\n",
       "            </tr>\n",
       "            <tr>\n",
       "                                <td id=\"T_f9ba0fe0_40cd_11ec_94ed_acde48001122row4_col0\" class=\"data row4 col0\" >Syrian Arab Republic</td>\n",
       "                        <td id=\"T_f9ba0fe0_40cd_11ec_94ed_acde48001122row4_col1\" class=\"data row4 col1\" >2012</td>\n",
       "                        <td id=\"T_f9ba0fe0_40cd_11ec_94ed_acde48001122row4_col2\" class=\"data row4 col2\" >4.280000</td>\n",
       "                        <td id=\"T_f9ba0fe0_40cd_11ec_94ed_acde48001122row4_col3\" class=\"data row4 col3\" >3.610000</td>\n",
       "                        <td id=\"T_f9ba0fe0_40cd_11ec_94ed_acde48001122row4_col4\" class=\"data row4 col4\" >4.950000</td>\n",
       "            </tr>\n",
       "            <tr>\n",
       "                                <td id=\"T_f9ba0fe0_40cd_11ec_94ed_acde48001122row5_col0\" class=\"data row5 col0\" >Syrian Arab Republic</td>\n",
       "                        <td id=\"T_f9ba0fe0_40cd_11ec_94ed_acde48001122row5_col1\" class=\"data row5 col1\" >2013</td>\n",
       "                        <td id=\"T_f9ba0fe0_40cd_11ec_94ed_acde48001122row5_col2\" class=\"data row5 col2\" >3.850000</td>\n",
       "                        <td id=\"T_f9ba0fe0_40cd_11ec_94ed_acde48001122row5_col3\" class=\"data row5 col3\" >3.100000</td>\n",
       "                        <td id=\"T_f9ba0fe0_40cd_11ec_94ed_acde48001122row5_col4\" class=\"data row5 col4\" >4.600000</td>\n",
       "            </tr>\n",
       "            <tr>\n",
       "                                <td id=\"T_f9ba0fe0_40cd_11ec_94ed_acde48001122row6_col0\" class=\"data row6 col0\" >Syrian Arab Republic</td>\n",
       "                        <td id=\"T_f9ba0fe0_40cd_11ec_94ed_acde48001122row6_col1\" class=\"data row6 col1\" >2014</td>\n",
       "                        <td id=\"T_f9ba0fe0_40cd_11ec_94ed_acde48001122row6_col2\" class=\"data row6 col2\" >3.700000</td>\n",
       "                        <td id=\"T_f9ba0fe0_40cd_11ec_94ed_acde48001122row6_col3\" class=\"data row6 col3\" >2.530000</td>\n",
       "                        <td id=\"T_f9ba0fe0_40cd_11ec_94ed_acde48001122row6_col4\" class=\"data row6 col4\" >4.870000</td>\n",
       "            </tr>\n",
       "            <tr>\n",
       "                                <td id=\"T_f9ba0fe0_40cd_11ec_94ed_acde48001122row7_col0\" class=\"data row7 col0\" >Syrian Arab Republic</td>\n",
       "                        <td id=\"T_f9ba0fe0_40cd_11ec_94ed_acde48001122row7_col1\" class=\"data row7 col1\" >2015</td>\n",
       "                        <td id=\"T_f9ba0fe0_40cd_11ec_94ed_acde48001122row7_col2\" class=\"data row7 col2\" >3.690000</td>\n",
       "                        <td id=\"T_f9ba0fe0_40cd_11ec_94ed_acde48001122row7_col3\" class=\"data row7 col3\" >2.550000</td>\n",
       "                        <td id=\"T_f9ba0fe0_40cd_11ec_94ed_acde48001122row7_col4\" class=\"data row7 col4\" >4.830000</td>\n",
       "            </tr>\n",
       "            <tr>\n",
       "                                <td id=\"T_f9ba0fe0_40cd_11ec_94ed_acde48001122row8_col0\" class=\"data row8 col0\" >Syrian Arab Republic</td>\n",
       "                        <td id=\"T_f9ba0fe0_40cd_11ec_94ed_acde48001122row8_col1\" class=\"data row8 col1\" >2016</td>\n",
       "                        <td id=\"T_f9ba0fe0_40cd_11ec_94ed_acde48001122row8_col2\" class=\"data row8 col2\" >3.600000</td>\n",
       "                        <td id=\"T_f9ba0fe0_40cd_11ec_94ed_acde48001122row8_col3\" class=\"data row8 col3\" >2.310000</td>\n",
       "                        <td id=\"T_f9ba0fe0_40cd_11ec_94ed_acde48001122row8_col4\" class=\"data row8 col4\" >4.880000</td>\n",
       "            </tr>\n",
       "            <tr>\n",
       "                                <td id=\"T_f9ba0fe0_40cd_11ec_94ed_acde48001122row9_col0\" class=\"data row9 col0\" >Syrian Arab Republic</td>\n",
       "                        <td id=\"T_f9ba0fe0_40cd_11ec_94ed_acde48001122row9_col1\" class=\"data row9 col1\" >2017</td>\n",
       "                        <td id=\"T_f9ba0fe0_40cd_11ec_94ed_acde48001122row9_col2\" class=\"data row9 col2\" >3.710000</td>\n",
       "                        <td id=\"T_f9ba0fe0_40cd_11ec_94ed_acde48001122row9_col3\" class=\"data row9 col3\" >2.360000</td>\n",
       "                        <td id=\"T_f9ba0fe0_40cd_11ec_94ed_acde48001122row9_col4\" class=\"data row9 col4\" >5.050000</td>\n",
       "            </tr>\n",
       "            <tr>\n",
       "                                <td id=\"T_f9ba0fe0_40cd_11ec_94ed_acde48001122row10_col0\" class=\"data row10 col0\" >Syrian Arab Republic</td>\n",
       "                        <td id=\"T_f9ba0fe0_40cd_11ec_94ed_acde48001122row10_col1\" class=\"data row10 col1\" >2018</td>\n",
       "                        <td id=\"T_f9ba0fe0_40cd_11ec_94ed_acde48001122row10_col2\" class=\"data row10 col2\" >3.970000</td>\n",
       "                        <td id=\"T_f9ba0fe0_40cd_11ec_94ed_acde48001122row10_col3\" class=\"data row10 col3\" >2.490000</td>\n",
       "                        <td id=\"T_f9ba0fe0_40cd_11ec_94ed_acde48001122row10_col4\" class=\"data row10 col4\" >5.450000</td>\n",
       "            </tr>\n",
       "    </tbody></table>"
      ],
      "text/plain": [
       "<pandas.io.formats.style.Styler at 0x7f805d3f69a0>"
      ]
     },
     "metadata": {},
     "output_type": "display_data"
    }
   ],
   "source": [
    "#5 For each year, which countries have high human freedom index scores on all three measures (hf_score, pf_score, ef_score?\n",
    "\n",
    "freedom_index_score= psql.read_sql(\"select distinct on (year) name, year, hf_score, pf_score, ef_score from summary where hf_score is not null   and pf_score is not null   and ef_score is not null order by year, (hf_score, pf_score, ef_score) asc\",con)\n",
    "display(freedom_index_score.style.hide_index())\n"
   ]
  }
 ],
 "metadata": {
  "kernelspec": {
   "display_name": "Python 3",
   "language": "python",
   "name": "python3"
  },
  "language_info": {
   "codemirror_mode": {
    "name": "ipython",
    "version": 3
   },
   "file_extension": ".py",
   "mimetype": "text/x-python",
   "name": "python",
   "nbconvert_exporter": "python",
   "pygments_lexer": "ipython3",
   "version": "3.8.5"
  }
 },
 "nbformat": 4,
 "nbformat_minor": 5
}
